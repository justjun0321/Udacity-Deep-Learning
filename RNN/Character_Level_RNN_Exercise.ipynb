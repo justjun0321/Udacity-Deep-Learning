{
 "cells": [
  {
   "cell_type": "markdown",
   "metadata": {},
   "source": [
    "# Character-Level LSTM in PyTorch\n",
    "\n",
    "In this notebook, I'll construct a character-level LSTM with PyTorch. The network will train character by character on some text, then generate new text character by character. As an example, I will train on Anna Karenina. **This model will be able to generate new text based on the text from the book!**\n",
    "\n",
    "This network is based off of Andrej Karpathy's [post on RNNs](http://karpathy.github.io/2015/05/21/rnn-effectiveness/) and [implementation in Torch](https://github.com/karpathy/char-rnn). Below is the general architecture of the character-wise RNN.\n",
    "\n",
    "<img src=\"assets/charseq.jpeg\" width=\"500\">"
   ]
  },
  {
   "cell_type": "markdown",
   "metadata": {},
   "source": [
    "First let's load in our required resources for data loading and model creation."
   ]
  },
  {
   "cell_type": "code",
   "execution_count": 1,
   "metadata": {},
   "outputs": [],
   "source": [
    "import numpy as np\n",
    "import torch\n",
    "from torch import nn\n",
    "import torch.nn.functional as F"
   ]
  },
  {
   "cell_type": "markdown",
   "metadata": {},
   "source": [
    "## Load in Data\n",
    "\n",
    "Then, we'll load the Anna Karenina text file and convert it into integers for our network to use. "
   ]
  },
  {
   "cell_type": "code",
   "execution_count": 2,
   "metadata": {},
   "outputs": [],
   "source": [
    "# open text file and read in data as `text`\n",
    "with open('data/anna.txt', 'r') as f:\n",
    "    text = f.read()"
   ]
  },
  {
   "cell_type": "markdown",
   "metadata": {},
   "source": [
    "Let's check out the first 100 characters, make sure everything is peachy. According to the [American Book Review](http://americanbookreview.org/100bestlines.asp), this is the 6th best first line of a book ever."
   ]
  },
  {
   "cell_type": "code",
   "execution_count": 3,
   "metadata": {},
   "outputs": [
    {
     "data": {
      "text/plain": [
       "'Chapter 1\\n\\n\\nHappy families are all alike; every unhappy family is unhappy in its own\\nway.\\n\\nEverythin'"
      ]
     },
     "execution_count": 3,
     "metadata": {},
     "output_type": "execute_result"
    }
   ],
   "source": [
    "text[:100]"
   ]
  },
  {
   "cell_type": "markdown",
   "metadata": {},
   "source": [
    "### Tokenization\n",
    "\n",
    "In the cells, below, I'm creating a couple **dictionaries** to convert the characters to and from integers. Encoding the characters as integers makes it easier to use as input in the network."
   ]
  },
  {
   "cell_type": "code",
   "execution_count": 4,
   "metadata": {},
   "outputs": [],
   "source": [
    "# encode the text and map each character to an integer and vice versa\n",
    "\n",
    "# we create two dictionaries:\n",
    "# 1. int2char, which maps integers to characters\n",
    "# 2. char2int, which maps characters to unique integers\n",
    "chars = tuple(set(text))\n",
    "int2char = dict(enumerate(chars))\n",
    "char2int = {ch: ii for ii, ch in int2char.items()}\n",
    "\n",
    "# encode the text\n",
    "encoded = np.array([char2int[ch] for ch in text])"
   ]
  },
  {
   "cell_type": "markdown",
   "metadata": {},
   "source": [
    "And we can see those same characters from above, encoded as integers."
   ]
  },
  {
   "cell_type": "code",
   "execution_count": 5,
   "metadata": {},
   "outputs": [
    {
     "data": {
      "text/plain": [
       "array([40, 64, 34, 17, 23, 59, 49, 66,  1, 51, 51, 51, 53, 34, 17, 17, 47,\n",
       "       66, 76, 34, 29, 11, 44, 11, 59, 68, 66, 34, 49, 59, 66, 34, 44, 44,\n",
       "       66, 34, 44, 11, 63, 59, 42, 66, 59, 65, 59, 49, 47, 66, 22, 25, 64,\n",
       "       34, 17, 17, 47, 66, 76, 34, 29, 11, 44, 47, 66, 11, 68, 66, 22, 25,\n",
       "       64, 34, 17, 17, 47, 66, 11, 25, 66, 11, 23, 68, 66, 18, 55, 25, 51,\n",
       "       55, 34, 47, 56, 51, 51, 28, 65, 59, 49, 47, 23, 64, 11, 25])"
      ]
     },
     "execution_count": 5,
     "metadata": {},
     "output_type": "execute_result"
    }
   ],
   "source": [
    "encoded[:100]"
   ]
  },
  {
   "cell_type": "markdown",
   "metadata": {},
   "source": [
    "## Pre-processing the data\n",
    "\n",
    "As you can see in our char-RNN image above, our LSTM expects an input that is **one-hot encoded** meaning that each character is converted into an integer (via our created dictionary) and *then* converted into a column vector where only it's corresponding integer index will have the value of 1 and the rest of the vector will be filled with 0's. Since we're one-hot encoding the data, let's make a function to do that!\n"
   ]
  },
  {
   "cell_type": "code",
   "execution_count": 6,
   "metadata": {},
   "outputs": [],
   "source": [
    "def one_hot_encode(arr, n_labels):\n",
    "    \n",
    "    # Initialize the the encoded array\n",
    "    one_hot = np.zeros((np.multiply(*arr.shape), n_labels), dtype=np.float32)\n",
    "    \n",
    "    # Fill the appropriate elements with ones\n",
    "    one_hot[np.arange(one_hot.shape[0]), arr.flatten()] = 1.\n",
    "    \n",
    "    # Finally reshape it to get back to the original array\n",
    "    one_hot = one_hot.reshape((*arr.shape, n_labels))\n",
    "    \n",
    "    return one_hot"
   ]
  },
  {
   "cell_type": "code",
   "execution_count": 7,
   "metadata": {},
   "outputs": [
    {
     "name": "stdout",
     "output_type": "stream",
     "text": [
      "[[[ 0.  0.  0.  1.  0.  0.  0.  0.]\n",
      "  [ 0.  0.  0.  0.  0.  1.  0.  0.]\n",
      "  [ 0.  1.  0.  0.  0.  0.  0.  0.]]]\n"
     ]
    }
   ],
   "source": [
    "# check that the function works as expected\n",
    "test_seq = np.array([[3, 5, 1]])\n",
    "one_hot = one_hot_encode(test_seq, 8)\n",
    "\n",
    "print(one_hot)"
   ]
  },
  {
   "cell_type": "markdown",
   "metadata": {},
   "source": [
    "## Making training mini-batches\n",
    "\n",
    "\n",
    "To train on this data, we also want to create mini-batches for training. Remember that we want our batches to be multiple sequences of some desired number of sequence steps. Considering a simple example, our batches would look like this:\n",
    "\n",
    "<img src=\"assets/sequence_batching@1x.png\" width=500px>\n",
    "\n",
    "\n",
    "<br>\n",
    "\n",
    "In this example, we'll take the encoded characters (passed in as the `arr` parameter) and split them into multiple sequences, given by `batch_size`. Each of our sequences will be `seq_length` long.\n",
    "\n",
    "### Creating Batches\n",
    "\n",
    "**1. The first thing we need to do is discard some of the text so we only have completely full mini-batches. **\n",
    "\n",
    "Each batch contains $N \\times M$ characters, where $N$ is the batch size (the number of sequences in a batch) and $M$ is the seq_length or number of time steps in a sequence. Then, to get the total number of batches, $K$, that we can make from the array `arr`, you divide the length of `arr` by the number of characters per batch. Once you know the number of batches, you can get the total number of characters to keep from `arr`, $N * M * K$.\n",
    "\n",
    "**2. After that, we need to split `arr` into $N$ batches. ** \n",
    "\n",
    "You can do this using `arr.reshape(size)` where `size` is a tuple containing the dimensions sizes of the reshaped array. We know we want $N$ sequences in a batch, so let's make that the size of the first dimension. For the second dimension, you can use `-1` as a placeholder in the size, it'll fill up the array with the appropriate data for you. After this, you should have an array that is $N \\times (M * K)$.\n",
    "\n",
    "**3. Now that we have this array, we can iterate through it to get our mini-batches. **\n",
    "\n",
    "The idea is each batch is a $N \\times M$ window on the $N \\times (M * K)$ array. For each subsequent batch, the window moves over by `seq_length`. We also want to create both the input and target arrays. Remember that the targets are just the inputs shifted over by one character. The way I like to do this window is use `range` to take steps of size `n_steps` from $0$ to `arr.shape[1]`, the total number of tokens in each sequence. That way, the integers you get from `range` always point to the start of a batch, and each window is `seq_length` wide.\n",
    "\n",
    "> **TODO:** Write the code for creating batches in the function below. The exercises in this notebook _will not be easy_. I've provided a notebook with solutions alongside this notebook. If you get stuck, checkout the solutions. The most important thing is that you don't copy and paste the code into here, **type out the solution code yourself.**"
   ]
  },
  {
   "cell_type": "code",
   "execution_count": 8,
   "metadata": {},
   "outputs": [],
   "source": [
    "def get_batches(arr, batch_size, seq_length):\n",
    "    '''Create a generator that returns batches of size\n",
    "       batch_size x seq_length from arr.\n",
    "       \n",
    "       Arguments\n",
    "       ---------\n",
    "       arr: Array you want to make batches from\n",
    "       batch_size: Batch size, the number of sequences per batch\n",
    "       seq_length: Number of encoded chars in a sequence\n",
    "    '''\n",
    "    batch_size_total = batch_size * seq_length\n",
    "    ## TODO: Get the number of batches we can make\n",
    "    n_batches = len(arr) // batch_size_total\n",
    "    \n",
    "    ## TODO: Keep only enough characters to make full batches\n",
    "    arr = arr[:n_batches*batch_size_total]\n",
    "    \n",
    "    ## TODO: Reshape into batch_size rows\n",
    "    arr = arr.reshape((batch_size,-1))\n",
    "    \n",
    "    \n",
    "    ## TODO: Iterate over the batches using a window of size seq_length\n",
    "    for n in range(0, arr.shape[1], seq_length):\n",
    "        # The features\n",
    "        x = arr[:,n:(n+seq_length)]\n",
    "        # The targets, shifted by one\n",
    "        y = np.zeros_like(x)\n",
    "        try:\n",
    "            y[:, :-1], y[:, -1] = x[:, 1:], arr[:, n+seq_length]\n",
    "        except IndexError:\n",
    "            y[:, :-1], y[:, -1] = x[:, 1:], arr[:, 0]\n",
    "        yield x, y"
   ]
  },
  {
   "cell_type": "markdown",
   "metadata": {},
   "source": [
    "### Test Your Implementation\n",
    "\n",
    "Now I'll make some data sets and we can check out what's going on as we batch data. Here, as an example, I'm going to use a batch size of 8 and 50 sequence steps."
   ]
  },
  {
   "cell_type": "code",
   "execution_count": 9,
   "metadata": {},
   "outputs": [
    {
     "data": {
      "text/plain": [
       "1985223"
      ]
     },
     "execution_count": 9,
     "metadata": {},
     "output_type": "execute_result"
    }
   ],
   "source": [
    "len(encoded)"
   ]
  },
  {
   "cell_type": "code",
   "execution_count": 10,
   "metadata": {},
   "outputs": [],
   "source": [
    "batches = get_batches(encoded, 8, 50)\n",
    "x, y = next(batches)"
   ]
  },
  {
   "cell_type": "code",
   "execution_count": 11,
   "metadata": {},
   "outputs": [
    {
     "name": "stdout",
     "output_type": "stream",
     "text": [
      "x\n",
      " [[40 64 34 17 23 59 49 66  1 51]\n",
      " [68 18 25 66 23 64 34 23 66 34]\n",
      " [59 25  3 66 18 49 66 34 66 76]\n",
      " [68 66 23 64 59 66 81 64 11 59]\n",
      " [66 68 34 55 66 64 59 49 66 23]\n",
      " [81 22 68 68 11 18 25 66 34 25]\n",
      " [66 31 25 25 34 66 64 34  3 66]\n",
      " [27 48 44 18 25 68 63 47 56 66]]\n",
      "\n",
      "y\n",
      " [[64 34 17 23 59 49 66  1 51 51]\n",
      " [18 25 66 23 64 34 23 66 34 23]\n",
      " [25  3 66 18 49 66 34 66 76 18]\n",
      " [66 23 64 59 66 81 64 11 59 76]\n",
      " [68 34 55 66 64 59 49 66 23 59]\n",
      " [22 68 68 11 18 25 66 34 25  3]\n",
      " [31 25 25 34 66 64 34  3 66 68]\n",
      " [48 44 18 25 68 63 47 56 66 32]]\n"
     ]
    }
   ],
   "source": [
    "# printing out the first 10 items in a sequence\n",
    "print('x\\n', x[:10, :10])\n",
    "print('\\ny\\n', y[:10, :10])"
   ]
  },
  {
   "cell_type": "markdown",
   "metadata": {},
   "source": [
    "If you implemented `get_batches` correctly, the above output should look something like \n",
    "```\n",
    "x\n",
    " [[25  8 60 11 45 27 28 73  1  2]\n",
    " [17  7 20 73 45  8 60 45 73 60]\n",
    " [27 20 80 73  7 28 73 60 73 65]\n",
    " [17 73 45  8 27 73 66  8 46 27]\n",
    " [73 17 60 12 73  8 27 28 73 45]\n",
    " [66 64 17 17 46  7 20 73 60 20]\n",
    " [73 76 20 20 60 73  8 60 80 73]\n",
    " [47 35 43  7 20 17 24 50 37 73]]\n",
    "\n",
    "y\n",
    " [[ 8 60 11 45 27 28 73  1  2  2]\n",
    " [ 7 20 73 45  8 60 45 73 60 45]\n",
    " [20 80 73  7 28 73 60 73 65  7]\n",
    " [73 45  8 27 73 66  8 46 27 65]\n",
    " [17 60 12 73  8 27 28 73 45 27]\n",
    " [64 17 17 46  7 20 73 60 20 80]\n",
    " [76 20 20 60 73  8 60 80 73 17]\n",
    " [35 43  7 20 17 24 50 37 73 36]]\n",
    " ```\n",
    " although the exact numbers may be different. Check to make sure the data is shifted over one step for `y`."
   ]
  },
  {
   "cell_type": "markdown",
   "metadata": {},
   "source": [
    "---\n",
    "## Defining the network with PyTorch\n",
    "\n",
    "Below is where you'll define the network.\n",
    "\n",
    "<img src=\"assets/charRNN.png\" width=500px>\n",
    "\n",
    "Next, you'll use PyTorch to define the architecture of the network. We start by defining the layers and operations we want. Then, define a method for the forward pass. You've also been given a method for predicting characters."
   ]
  },
  {
   "cell_type": "markdown",
   "metadata": {},
   "source": [
    "### Model Structure\n",
    "\n",
    "In `__init__` the suggested structure is as follows:\n",
    "* Create and store the necessary dictionaries (this has been done for you)\n",
    "* Define an LSTM layer that takes as params: an input size (the number of characters), a hidden layer size `n_hidden`, a number of layers `n_layers`, a dropout probability `drop_prob`, and a batch_first boolean (True, since we are batching)\n",
    "* Define a dropout layer with `dropout_prob`\n",
    "* Define a fully-connected layer with params: input size `n_hidden` and output size (the number of characters)\n",
    "* Finally, initialize the weights (again, this has been given)\n",
    "\n",
    "Note that some parameters have been named and given in the `__init__` function, and we use them and store them by doing something like `self.drop_prob = drop_prob`."
   ]
  },
  {
   "cell_type": "markdown",
   "metadata": {},
   "source": [
    "---\n",
    "### LSTM Inputs/Outputs\n",
    "\n",
    "You can create a basic [LSTM layer](https://pytorch.org/docs/stable/nn.html#lstm) as follows\n",
    "\n",
    "```python\n",
    "self.lstm = nn.LSTM(input_size, n_hidden, n_layers, \n",
    "                            dropout=drop_prob, batch_first=True)\n",
    "```\n",
    "\n",
    "where `input_size` is the number of characters this cell expects to see as sequential input, and `n_hidden` is the number of units in the hidden layers in the cell. And we can add dropout by adding a dropout parameter with a specified probability; this will automatically add dropout to the inputs or outputs. Finally, in the `forward` function, we can stack up the LSTM cells into layers using `.view`. With this, you pass in a list of cells and it will send the output of one cell into the next cell.\n",
    "\n",
    "We also need to create an initial hidden state of all zeros. This is done like so\n",
    "\n",
    "```python\n",
    "self.init_hidden()\n",
    "```"
   ]
  },
  {
   "cell_type": "code",
   "execution_count": 12,
   "metadata": {},
   "outputs": [
    {
     "name": "stdout",
     "output_type": "stream",
     "text": [
      "Training on GPU!\n"
     ]
    }
   ],
   "source": [
    "# check if GPU is available\n",
    "train_on_gpu = torch.cuda.is_available()\n",
    "if(train_on_gpu):\n",
    "    print('Training on GPU!')\n",
    "else: \n",
    "    print('No GPU available, training on CPU; consider making n_epochs very small.')"
   ]
  },
  {
   "cell_type": "code",
   "execution_count": 13,
   "metadata": {},
   "outputs": [],
   "source": [
    "class CharRNN(nn.Module):\n",
    "    \n",
    "    def __init__(self, tokens, n_hidden=256, n_layers=2,\n",
    "                               drop_prob=0.5, lr=0.001):\n",
    "        super().__init__()\n",
    "        self.drop_prob = drop_prob\n",
    "        self.n_layers = n_layers\n",
    "        self.n_hidden = n_hidden\n",
    "        self.lr = lr\n",
    "        \n",
    "        # creating character dictionaries\n",
    "        self.chars = tokens\n",
    "        self.int2char = dict(enumerate(self.chars))\n",
    "        self.char2int = {ch: ii for ii, ch in self.int2char.items()}\n",
    "        \n",
    "        ## TODO: define the layers of the model\n",
    "        self.lstm = nn.LSTM(len(self.chars), n_hidden, n_layers, \n",
    "                            dropout=drop_prob, batch_first=True)\n",
    "        self.dropout = nn.Dropout(drop_prob)\n",
    "        self.fc = nn.Linear(n_hidden,len(self.chars))\n",
    "      \n",
    "    \n",
    "    def forward(self, x, hidden):\n",
    "        ''' Forward pass through the network. \n",
    "            These inputs are x, and the hidden/cell state `hidden`. '''\n",
    "                \n",
    "        ## TODO: Get the outputs and the new hidden state from the lstm\n",
    "        r_output, hidden = self.lstm(x, hidden)\n",
    "        \n",
    "        out = self.dropout(r_output)\n",
    "        \n",
    "        out = out.contiguous().view(-1, self.n_hidden)\n",
    "        \n",
    "        out = self.fc(out)\n",
    "        \n",
    "        # return the final output and the hidden state\n",
    "        return out, hidden\n",
    "    \n",
    "    \n",
    "    def init_hidden(self, batch_size):\n",
    "        ''' Initializes hidden state '''\n",
    "        # Create two new tensors with sizes n_layers x batch_size x n_hidden,\n",
    "        # initialized to zero, for hidden state and cell state of LSTM\n",
    "        weight = next(self.parameters()).data\n",
    "        \n",
    "        if (train_on_gpu):\n",
    "            hidden = (weight.new(self.n_layers, batch_size, self.n_hidden).zero_().cuda(),\n",
    "                  weight.new(self.n_layers, batch_size, self.n_hidden).zero_().cuda())\n",
    "        else:\n",
    "            hidden = (weight.new(self.n_layers, batch_size, self.n_hidden).zero_(),\n",
    "                      weight.new(self.n_layers, batch_size, self.n_hidden).zero_())\n",
    "        \n",
    "        return hidden\n",
    "        "
   ]
  },
  {
   "cell_type": "markdown",
   "metadata": {},
   "source": [
    "## Time to train\n",
    "\n",
    "The train function gives us the ability to set the number of epochs, the learning rate, and other parameters.\n",
    "\n",
    "Below we're using an Adam optimizer and cross entropy loss since we are looking at character class scores as output. We calculate the loss and perform backpropagation, as usual!\n",
    "\n",
    "A couple of details about training: \n",
    ">* Within the batch loop, we detach the hidden state from its history; this time setting it equal to a new *tuple* variable because an LSTM has a hidden state that is a tuple of the hidden and cell states.\n",
    "* We use [`clip_grad_norm_`](https://pytorch.org/docs/stable/_modules/torch/nn/utils/clip_grad.html) to help prevent exploding gradients."
   ]
  },
  {
   "cell_type": "code",
   "execution_count": 14,
   "metadata": {},
   "outputs": [],
   "source": [
    "def train(net, data, epochs=10, batch_size=10, seq_length=50, lr=0.001, clip=5, val_frac=0.1, print_every=10):\n",
    "    ''' Training a network \n",
    "    \n",
    "        Arguments\n",
    "        ---------\n",
    "        \n",
    "        net: CharRNN network\n",
    "        data: text data to train the network\n",
    "        epochs: Number of epochs to train\n",
    "        batch_size: Number of mini-sequences per mini-batch, aka batch size\n",
    "        seq_length: Number of character steps per mini-batch\n",
    "        lr: learning rate\n",
    "        clip: gradient clipping\n",
    "        val_frac: Fraction of data to hold out for validation\n",
    "        print_every: Number of steps for printing training and validation loss\n",
    "    \n",
    "    '''\n",
    "    net.train()\n",
    "    \n",
    "    opt = torch.optim.Adam(net.parameters(), lr=lr)\n",
    "    criterion = nn.CrossEntropyLoss()\n",
    "    \n",
    "    # create training and validation data\n",
    "    val_idx = int(len(data)*(1-val_frac))\n",
    "    data, val_data = data[:val_idx], data[val_idx:]\n",
    "    \n",
    "    if(train_on_gpu):\n",
    "        net.cuda()\n",
    "    \n",
    "    counter = 0\n",
    "    n_chars = len(net.chars)\n",
    "    for e in range(epochs):\n",
    "        # initialize hidden state\n",
    "        h = net.init_hidden(batch_size)\n",
    "        \n",
    "        for x, y in get_batches(data, batch_size, seq_length):\n",
    "            counter += 1\n",
    "            \n",
    "            # One-hot encode our data and make them Torch tensors\n",
    "            x = one_hot_encode(x, n_chars)\n",
    "            inputs, targets = torch.from_numpy(x), torch.from_numpy(y)\n",
    "            \n",
    "            if(train_on_gpu):\n",
    "                inputs, targets = inputs.cuda(), targets.cuda()\n",
    "\n",
    "            # Creating new variables for the hidden state, otherwise\n",
    "            # we'd backprop through the entire training history\n",
    "            h = tuple([each.data for each in h])\n",
    "\n",
    "            # zero accumulated gradients\n",
    "            net.zero_grad()\n",
    "            \n",
    "            # get the output from the model\n",
    "            output, h = net(inputs, h)\n",
    "            \n",
    "            # calculate the loss and perform backprop\n",
    "            loss = criterion(output, targets.view(batch_size*seq_length))\n",
    "            loss.backward()\n",
    "            # `clip_grad_norm` helps prevent the exploding gradient problem in RNNs / LSTMs.\n",
    "            nn.utils.clip_grad_norm_(net.parameters(), clip)\n",
    "            opt.step()\n",
    "            \n",
    "            # loss stats\n",
    "            if counter % print_every == 0:\n",
    "                # Get validation loss\n",
    "                val_h = net.init_hidden(batch_size)\n",
    "                val_losses = []\n",
    "                net.eval()\n",
    "                for x, y in get_batches(val_data, batch_size, seq_length):\n",
    "                    # One-hot encode our data and make them Torch tensors\n",
    "                    x = one_hot_encode(x, n_chars)\n",
    "                    x, y = torch.from_numpy(x), torch.from_numpy(y)\n",
    "                    \n",
    "                    # Creating new variables for the hidden state, otherwise\n",
    "                    # we'd backprop through the entire training history\n",
    "                    val_h = tuple([each.data for each in val_h])\n",
    "                    \n",
    "                    inputs, targets = x, y\n",
    "                    if(train_on_gpu):\n",
    "                        inputs, targets = inputs.cuda(), targets.cuda()\n",
    "\n",
    "                    output, val_h = net(inputs, val_h)\n",
    "                    val_loss = criterion(output, targets.view(batch_size*seq_length))\n",
    "                \n",
    "                    val_losses.append(val_loss.item())\n",
    "                \n",
    "                net.train() # reset to train mode after iterationg through validation data\n",
    "                \n",
    "                print(\"Epoch: {}/{}...\".format(e+1, epochs),\n",
    "                      \"Step: {}...\".format(counter),\n",
    "                      \"Loss: {:.4f}...\".format(loss.item()),\n",
    "                      \"Val Loss: {:.4f}\".format(np.mean(val_losses)))"
   ]
  },
  {
   "cell_type": "markdown",
   "metadata": {},
   "source": [
    "## Instantiating the model\n",
    "\n",
    "Now we can actually train the network. First we'll create the network itself, with some given hyperparameters. Then, define the mini-batches sizes, and start training!"
   ]
  },
  {
   "cell_type": "code",
   "execution_count": 15,
   "metadata": {},
   "outputs": [
    {
     "name": "stdout",
     "output_type": "stream",
     "text": [
      "CharRNN(\n",
      "  (lstm): LSTM(83, 512, num_layers=2, batch_first=True, dropout=0.5)\n",
      "  (dropout): Dropout(p=0.5)\n",
      "  (fc): Linear(in_features=512, out_features=83, bias=True)\n",
      ")\n"
     ]
    }
   ],
   "source": [
    "# define and print the net\n",
    "n_hidden=512\n",
    "n_layers=2\n",
    "\n",
    "net = CharRNN(chars, n_hidden, n_layers)\n",
    "print(net)"
   ]
  },
  {
   "cell_type": "markdown",
   "metadata": {},
   "source": [
    "### Set your training hyperparameters!"
   ]
  },
  {
   "cell_type": "code",
   "execution_count": 16,
   "metadata": {
    "scrolled": true
   },
   "outputs": [
    {
     "name": "stdout",
     "output_type": "stream",
     "text": [
      "Epoch: 1/20... Step: 10... Loss: 3.2342... Val Loss: 3.1536\n",
      "Epoch: 1/20... Step: 20... Loss: 3.1356... Val Loss: 3.1299\n",
      "Epoch: 1/20... Step: 30... Loss: 3.1327... Val Loss: 3.1205\n",
      "Epoch: 1/20... Step: 40... Loss: 3.1131... Val Loss: 3.1190\n",
      "Epoch: 1/20... Step: 50... Loss: 3.1380... Val Loss: 3.1167\n",
      "Epoch: 1/20... Step: 60... Loss: 3.1115... Val Loss: 3.1138\n",
      "Epoch: 1/20... Step: 70... Loss: 3.1033... Val Loss: 3.1099\n",
      "Epoch: 1/20... Step: 80... Loss: 3.1125... Val Loss: 3.0991\n",
      "Epoch: 1/20... Step: 90... Loss: 3.0915... Val Loss: 3.0733\n",
      "Epoch: 1/20... Step: 100... Loss: 3.0383... Val Loss: 3.0213\n",
      "Epoch: 1/20... Step: 110... Loss: 2.9706... Val Loss: 2.9361\n",
      "Epoch: 1/20... Step: 120... Loss: 2.8457... Val Loss: 2.8831\n",
      "Epoch: 1/20... Step: 130... Loss: 2.7786... Val Loss: 2.7410\n",
      "Epoch: 2/20... Step: 140... Loss: 2.6805... Val Loss: 2.6273\n",
      "Epoch: 2/20... Step: 150... Loss: 2.6145... Val Loss: 2.5579\n",
      "Epoch: 2/20... Step: 160... Loss: 2.5432... Val Loss: 2.4989\n",
      "Epoch: 2/20... Step: 170... Loss: 2.4658... Val Loss: 2.4620\n",
      "Epoch: 2/20... Step: 180... Loss: 2.4448... Val Loss: 2.4249\n",
      "Epoch: 2/20... Step: 190... Loss: 2.3946... Val Loss: 2.3953\n",
      "Epoch: 2/20... Step: 200... Loss: 2.3871... Val Loss: 2.3618\n",
      "Epoch: 2/20... Step: 210... Loss: 2.3610... Val Loss: 2.3331\n",
      "Epoch: 2/20... Step: 220... Loss: 2.3243... Val Loss: 2.3037\n",
      "Epoch: 2/20... Step: 230... Loss: 2.3082... Val Loss: 2.2846\n",
      "Epoch: 2/20... Step: 240... Loss: 2.2849... Val Loss: 2.2471\n",
      "Epoch: 2/20... Step: 250... Loss: 2.2189... Val Loss: 2.2236\n",
      "Epoch: 2/20... Step: 260... Loss: 2.1902... Val Loss: 2.1974\n",
      "Epoch: 2/20... Step: 270... Loss: 2.1995... Val Loss: 2.1752\n",
      "Epoch: 3/20... Step: 280... Loss: 2.2011... Val Loss: 2.1530\n",
      "Epoch: 3/20... Step: 290... Loss: 2.1590... Val Loss: 2.1262\n",
      "Epoch: 3/20... Step: 300... Loss: 2.1448... Val Loss: 2.1033\n",
      "Epoch: 3/20... Step: 310... Loss: 2.1048... Val Loss: 2.0849\n",
      "Epoch: 3/20... Step: 320... Loss: 2.0740... Val Loss: 2.0631\n",
      "Epoch: 3/20... Step: 330... Loss: 2.0471... Val Loss: 2.0511\n",
      "Epoch: 3/20... Step: 340... Loss: 2.0704... Val Loss: 2.0313\n",
      "Epoch: 3/20... Step: 350... Loss: 2.0503... Val Loss: 2.0110\n",
      "Epoch: 3/20... Step: 360... Loss: 1.9798... Val Loss: 1.9941\n",
      "Epoch: 3/20... Step: 370... Loss: 2.0109... Val Loss: 1.9772\n",
      "Epoch: 3/20... Step: 380... Loss: 1.9899... Val Loss: 1.9623\n",
      "Epoch: 3/20... Step: 390... Loss: 1.9613... Val Loss: 1.9503\n",
      "Epoch: 3/20... Step: 400... Loss: 1.9274... Val Loss: 1.9309\n",
      "Epoch: 3/20... Step: 410... Loss: 1.9460... Val Loss: 1.9132\n",
      "Epoch: 4/20... Step: 420... Loss: 1.9272... Val Loss: 1.9046\n",
      "Epoch: 4/20... Step: 430... Loss: 1.9193... Val Loss: 1.8894\n",
      "Epoch: 4/20... Step: 440... Loss: 1.9018... Val Loss: 1.8754\n",
      "Epoch: 4/20... Step: 450... Loss: 1.8451... Val Loss: 1.8592\n",
      "Epoch: 4/20... Step: 460... Loss: 1.8451... Val Loss: 1.8554\n",
      "Epoch: 4/20... Step: 470... Loss: 1.8743... Val Loss: 1.8425\n",
      "Epoch: 4/20... Step: 480... Loss: 1.8494... Val Loss: 1.8273\n",
      "Epoch: 4/20... Step: 490... Loss: 1.8507... Val Loss: 1.8159\n",
      "Epoch: 4/20... Step: 500... Loss: 1.8360... Val Loss: 1.8045\n",
      "Epoch: 4/20... Step: 510... Loss: 1.8262... Val Loss: 1.7959\n",
      "Epoch: 4/20... Step: 520... Loss: 1.8384... Val Loss: 1.7834\n",
      "Epoch: 4/20... Step: 530... Loss: 1.7986... Val Loss: 1.7753\n",
      "Epoch: 4/20... Step: 540... Loss: 1.7541... Val Loss: 1.7650\n",
      "Epoch: 4/20... Step: 550... Loss: 1.8010... Val Loss: 1.7546\n",
      "Epoch: 5/20... Step: 560... Loss: 1.7659... Val Loss: 1.7490\n",
      "Epoch: 5/20... Step: 570... Loss: 1.7550... Val Loss: 1.7388\n",
      "Epoch: 5/20... Step: 580... Loss: 1.7287... Val Loss: 1.7262\n",
      "Epoch: 5/20... Step: 590... Loss: 1.7333... Val Loss: 1.7217\n",
      "Epoch: 5/20... Step: 600... Loss: 1.7341... Val Loss: 1.7106\n",
      "Epoch: 5/20... Step: 610... Loss: 1.7084... Val Loss: 1.7053\n",
      "Epoch: 5/20... Step: 620... Loss: 1.7108... Val Loss: 1.6974\n",
      "Epoch: 5/20... Step: 630... Loss: 1.7179... Val Loss: 1.6892\n",
      "Epoch: 5/20... Step: 640... Loss: 1.6968... Val Loss: 1.6788\n",
      "Epoch: 5/20... Step: 650... Loss: 1.6882... Val Loss: 1.6701\n",
      "Epoch: 5/20... Step: 660... Loss: 1.6587... Val Loss: 1.6671\n",
      "Epoch: 5/20... Step: 670... Loss: 1.6839... Val Loss: 1.6594\n",
      "Epoch: 5/20... Step: 680... Loss: 1.6834... Val Loss: 1.6523\n",
      "Epoch: 5/20... Step: 690... Loss: 1.6495... Val Loss: 1.6473\n",
      "Epoch: 6/20... Step: 700... Loss: 1.6604... Val Loss: 1.6396\n",
      "Epoch: 6/20... Step: 710... Loss: 1.6484... Val Loss: 1.6354\n",
      "Epoch: 6/20... Step: 720... Loss: 1.6264... Val Loss: 1.6281\n",
      "Epoch: 6/20... Step: 730... Loss: 1.6402... Val Loss: 1.6192\n",
      "Epoch: 6/20... Step: 740... Loss: 1.6166... Val Loss: 1.6179\n",
      "Epoch: 6/20... Step: 750... Loss: 1.5981... Val Loss: 1.6110\n",
      "Epoch: 6/20... Step: 760... Loss: 1.6346... Val Loss: 1.6067\n",
      "Epoch: 6/20... Step: 770... Loss: 1.6183... Val Loss: 1.6050\n",
      "Epoch: 6/20... Step: 780... Loss: 1.5918... Val Loss: 1.5929\n",
      "Epoch: 6/20... Step: 790... Loss: 1.5780... Val Loss: 1.5867\n",
      "Epoch: 6/20... Step: 800... Loss: 1.5986... Val Loss: 1.5861\n",
      "Epoch: 6/20... Step: 810... Loss: 1.5896... Val Loss: 1.5791\n",
      "Epoch: 6/20... Step: 820... Loss: 1.5496... Val Loss: 1.5787\n",
      "Epoch: 6/20... Step: 830... Loss: 1.5931... Val Loss: 1.5683\n",
      "Epoch: 7/20... Step: 840... Loss: 1.5457... Val Loss: 1.5650\n",
      "Epoch: 7/20... Step: 850... Loss: 1.5720... Val Loss: 1.5635\n",
      "Epoch: 7/20... Step: 860... Loss: 1.5603... Val Loss: 1.5530\n",
      "Epoch: 7/20... Step: 870... Loss: 1.5583... Val Loss: 1.5494\n",
      "Epoch: 7/20... Step: 880... Loss: 1.5584... Val Loss: 1.5475\n",
      "Epoch: 7/20... Step: 890... Loss: 1.5583... Val Loss: 1.5428\n",
      "Epoch: 7/20... Step: 900... Loss: 1.5439... Val Loss: 1.5377\n",
      "Epoch: 7/20... Step: 910... Loss: 1.5167... Val Loss: 1.5368\n",
      "Epoch: 7/20... Step: 920... Loss: 1.5393... Val Loss: 1.5300\n",
      "Epoch: 7/20... Step: 930... Loss: 1.5263... Val Loss: 1.5252\n",
      "Epoch: 7/20... Step: 940... Loss: 1.5251... Val Loss: 1.5247\n",
      "Epoch: 7/20... Step: 950... Loss: 1.5291... Val Loss: 1.5190\n",
      "Epoch: 7/20... Step: 960... Loss: 1.5256... Val Loss: 1.5170\n",
      "Epoch: 7/20... Step: 970... Loss: 1.5319... Val Loss: 1.5126\n",
      "Epoch: 8/20... Step: 980... Loss: 1.5117... Val Loss: 1.5102\n",
      "Epoch: 8/20... Step: 990... Loss: 1.5121... Val Loss: 1.5041\n",
      "Epoch: 8/20... Step: 1000... Loss: 1.4994... Val Loss: 1.4996\n",
      "Epoch: 8/20... Step: 1010... Loss: 1.5368... Val Loss: 1.4974\n",
      "Epoch: 8/20... Step: 1020... Loss: 1.5103... Val Loss: 1.4965\n",
      "Epoch: 8/20... Step: 1030... Loss: 1.4969... Val Loss: 1.4907\n",
      "Epoch: 8/20... Step: 1040... Loss: 1.5033... Val Loss: 1.4922\n",
      "Epoch: 8/20... Step: 1050... Loss: 1.4836... Val Loss: 1.4871\n",
      "Epoch: 8/20... Step: 1060... Loss: 1.4849... Val Loss: 1.4822\n",
      "Epoch: 8/20... Step: 1070... Loss: 1.4920... Val Loss: 1.4779\n",
      "Epoch: 8/20... Step: 1080... Loss: 1.4882... Val Loss: 1.4780\n",
      "Epoch: 8/20... Step: 1090... Loss: 1.4686... Val Loss: 1.4727\n",
      "Epoch: 8/20... Step: 1100... Loss: 1.4548... Val Loss: 1.4710\n",
      "Epoch: 8/20... Step: 1110... Loss: 1.4743... Val Loss: 1.4661\n",
      "Epoch: 9/20... Step: 1120... Loss: 1.4858... Val Loss: 1.4656\n",
      "Epoch: 9/20... Step: 1130... Loss: 1.4720... Val Loss: 1.4592\n",
      "Epoch: 9/20... Step: 1140... Loss: 1.4649... Val Loss: 1.4576\n",
      "Epoch: 9/20... Step: 1150... Loss: 1.4829... Val Loss: 1.4545\n",
      "Epoch: 9/20... Step: 1160... Loss: 1.4432... Val Loss: 1.4544\n",
      "Epoch: 9/20... Step: 1170... Loss: 1.4437... Val Loss: 1.4522\n",
      "Epoch: 9/20... Step: 1180... Loss: 1.4440... Val Loss: 1.4505\n",
      "Epoch: 9/20... Step: 1190... Loss: 1.4739... Val Loss: 1.4505\n",
      "Epoch: 9/20... Step: 1200... Loss: 1.4325... Val Loss: 1.4454\n",
      "Epoch: 9/20... Step: 1210... Loss: 1.4378... Val Loss: 1.4432\n",
      "Epoch: 9/20... Step: 1220... Loss: 1.4365... Val Loss: 1.4430\n",
      "Epoch: 9/20... Step: 1230... Loss: 1.4216... Val Loss: 1.4384\n",
      "Epoch: 9/20... Step: 1240... Loss: 1.4289... Val Loss: 1.4343\n",
      "Epoch: 9/20... Step: 1250... Loss: 1.4399... Val Loss: 1.4334\n",
      "Epoch: 10/20... Step: 1260... Loss: 1.4441... Val Loss: 1.4338\n",
      "Epoch: 10/20... Step: 1270... Loss: 1.4318... Val Loss: 1.4295\n",
      "Epoch: 10/20... Step: 1280... Loss: 1.4461... Val Loss: 1.4261\n",
      "Epoch: 10/20... Step: 1290... Loss: 1.4215... Val Loss: 1.4245\n",
      "Epoch: 10/20... Step: 1300... Loss: 1.4197... Val Loss: 1.4262\n",
      "Epoch: 10/20... Step: 1310... Loss: 1.4173... Val Loss: 1.4226\n",
      "Epoch: 10/20... Step: 1320... Loss: 1.3940... Val Loss: 1.4220\n",
      "Epoch: 10/20... Step: 1330... Loss: 1.4045... Val Loss: 1.4225\n",
      "Epoch: 10/20... Step: 1340... Loss: 1.3964... Val Loss: 1.4170\n",
      "Epoch: 10/20... Step: 1350... Loss: 1.3884... Val Loss: 1.4113\n",
      "Epoch: 10/20... Step: 1360... Loss: 1.3870... Val Loss: 1.4177\n",
      "Epoch: 10/20... Step: 1370... Loss: 1.3883... Val Loss: 1.4119\n",
      "Epoch: 10/20... Step: 1380... Loss: 1.4175... Val Loss: 1.4071\n",
      "Epoch: 10/20... Step: 1390... Loss: 1.4222... Val Loss: 1.4085\n",
      "Epoch: 11/20... Step: 1400... Loss: 1.4328... Val Loss: 1.4117\n",
      "Epoch: 11/20... Step: 1410... Loss: 1.4411... Val Loss: 1.4089\n",
      "Epoch: 11/20... Step: 1420... Loss: 1.4370... Val Loss: 1.4025\n",
      "Epoch: 11/20... Step: 1430... Loss: 1.3948... Val Loss: 1.4000\n",
      "Epoch: 11/20... Step: 1440... Loss: 1.4269... Val Loss: 1.3998\n",
      "Epoch: 11/20... Step: 1450... Loss: 1.3509... Val Loss: 1.3948\n",
      "Epoch: 11/20... Step: 1460... Loss: 1.3692... Val Loss: 1.3951\n",
      "Epoch: 11/20... Step: 1470... Loss: 1.3718... Val Loss: 1.3969\n",
      "Epoch: 11/20... Step: 1480... Loss: 1.3771... Val Loss: 1.3915\n",
      "Epoch: 11/20... Step: 1490... Loss: 1.3719... Val Loss: 1.3905\n",
      "Epoch: 11/20... Step: 1500... Loss: 1.3599... Val Loss: 1.3969\n",
      "Epoch: 11/20... Step: 1510... Loss: 1.3513... Val Loss: 1.3881\n",
      "Epoch: 11/20... Step: 1520... Loss: 1.3806... Val Loss: 1.3854\n",
      "Epoch: 12/20... Step: 1530... Loss: 1.4321... Val Loss: 1.3849\n",
      "Epoch: 12/20... Step: 1540... Loss: 1.3858... Val Loss: 1.3837\n",
      "Epoch: 12/20... Step: 1550... Loss: 1.3839... Val Loss: 1.3807\n",
      "Epoch: 12/20... Step: 1560... Loss: 1.4024... Val Loss: 1.3828\n",
      "Epoch: 12/20... Step: 1570... Loss: 1.3426... Val Loss: 1.3811\n",
      "Epoch: 12/20... Step: 1580... Loss: 1.3309... Val Loss: 1.3796\n",
      "Epoch: 12/20... Step: 1590... Loss: 1.3260... Val Loss: 1.3762\n",
      "Epoch: 12/20... Step: 1600... Loss: 1.3461... Val Loss: 1.3789\n",
      "Epoch: 12/20... Step: 1610... Loss: 1.3467... Val Loss: 1.3780\n",
      "Epoch: 12/20... Step: 1620... Loss: 1.3423... Val Loss: 1.3734\n",
      "Epoch: 12/20... Step: 1630... Loss: 1.3565... Val Loss: 1.3686\n",
      "Epoch: 12/20... Step: 1640... Loss: 1.3467... Val Loss: 1.3783\n",
      "Epoch: 12/20... Step: 1650... Loss: 1.3130... Val Loss: 1.3736\n",
      "Epoch: 12/20... Step: 1660... Loss: 1.3663... Val Loss: 1.3698\n",
      "Epoch: 13/20... Step: 1670... Loss: 1.3440... Val Loss: 1.3703\n",
      "Epoch: 13/20... Step: 1680... Loss: 1.3484... Val Loss: 1.3624\n",
      "Epoch: 13/20... Step: 1690... Loss: 1.3291... Val Loss: 1.3640\n",
      "Epoch: 13/20... Step: 1700... Loss: 1.3352... Val Loss: 1.3655\n",
      "Epoch: 13/20... Step: 1710... Loss: 1.3125... Val Loss: 1.3653\n",
      "Epoch: 13/20... Step: 1720... Loss: 1.3237... Val Loss: 1.3642\n",
      "Epoch: 13/20... Step: 1730... Loss: 1.3597... Val Loss: 1.3584\n",
      "Epoch: 13/20... Step: 1740... Loss: 1.3206... Val Loss: 1.3634\n",
      "Epoch: 13/20... Step: 1750... Loss: 1.2947... Val Loss: 1.3637\n",
      "Epoch: 13/20... Step: 1760... Loss: 1.3260... Val Loss: 1.3564\n",
      "Epoch: 13/20... Step: 1770... Loss: 1.3485... Val Loss: 1.3565\n",
      "Epoch: 13/20... Step: 1780... Loss: 1.3152... Val Loss: 1.3618\n",
      "Epoch: 13/20... Step: 1790... Loss: 1.3047... Val Loss: 1.3560\n",
      "Epoch: 13/20... Step: 1800... Loss: 1.3342... Val Loss: 1.3540\n",
      "Epoch: 14/20... Step: 1810... Loss: 1.3385... Val Loss: 1.3516\n",
      "Epoch: 14/20... Step: 1820... Loss: 1.3069... Val Loss: 1.3498\n",
      "Epoch: 14/20... Step: 1830... Loss: 1.3397... Val Loss: 1.3473\n",
      "Epoch: 14/20... Step: 1840... Loss: 1.2808... Val Loss: 1.3507\n",
      "Epoch: 14/20... Step: 1850... Loss: 1.2751... Val Loss: 1.3482\n",
      "Epoch: 14/20... Step: 1860... Loss: 1.3211... Val Loss: 1.3474\n",
      "Epoch: 14/20... Step: 1870... Loss: 1.3372... Val Loss: 1.3424\n",
      "Epoch: 14/20... Step: 1880... Loss: 1.3244... Val Loss: 1.3483\n",
      "Epoch: 14/20... Step: 1890... Loss: 1.3337... Val Loss: 1.3461\n",
      "Epoch: 14/20... Step: 1900... Loss: 1.3169... Val Loss: 1.3461\n",
      "Epoch: 14/20... Step: 1910... Loss: 1.3200... Val Loss: 1.3410\n",
      "Epoch: 14/20... Step: 1920... Loss: 1.3101... Val Loss: 1.3452\n",
      "Epoch: 14/20... Step: 1930... Loss: 1.2859... Val Loss: 1.3426\n",
      "Epoch: 14/20... Step: 1940... Loss: 1.3335... Val Loss: 1.3390\n",
      "Epoch: 15/20... Step: 1950... Loss: 1.3022... Val Loss: 1.3382\n",
      "Epoch: 15/20... Step: 1960... Loss: 1.3082... Val Loss: 1.3378\n",
      "Epoch: 15/20... Step: 1970... Loss: 1.3023... Val Loss: 1.3370\n",
      "Epoch: 15/20... Step: 1980... Loss: 1.2934... Val Loss: 1.3364\n",
      "Epoch: 15/20... Step: 1990... Loss: 1.2866... Val Loss: 1.3354\n",
      "Epoch: 15/20... Step: 2000... Loss: 1.2763... Val Loss: 1.3343\n",
      "Epoch: 15/20... Step: 2010... Loss: 1.2954... Val Loss: 1.3313\n",
      "Epoch: 15/20... Step: 2020... Loss: 1.3128... Val Loss: 1.3378\n",
      "Epoch: 15/20... Step: 2030... Loss: 1.2837... Val Loss: 1.3319\n",
      "Epoch: 15/20... Step: 2040... Loss: 1.2972... Val Loss: 1.3328\n",
      "Epoch: 15/20... Step: 2050... Loss: 1.2903... Val Loss: 1.3327\n",
      "Epoch: 15/20... Step: 2060... Loss: 1.2991... Val Loss: 1.3296\n",
      "Epoch: 15/20... Step: 2070... Loss: 1.3060... Val Loss: 1.3302\n",
      "Epoch: 15/20... Step: 2080... Loss: 1.2925... Val Loss: 1.3282\n",
      "Epoch: 16/20... Step: 2090... Loss: 1.3068... Val Loss: 1.3330\n",
      "Epoch: 16/20... Step: 2100... Loss: 1.2741... Val Loss: 1.3281\n",
      "Epoch: 16/20... Step: 2110... Loss: 1.2876... Val Loss: 1.3241\n",
      "Epoch: 16/20... Step: 2120... Loss: 1.2875... Val Loss: 1.3249\n",
      "Epoch: 16/20... Step: 2130... Loss: 1.2638... Val Loss: 1.3268\n",
      "Epoch: 16/20... Step: 2140... Loss: 1.2769... Val Loss: 1.3217\n",
      "Epoch: 16/20... Step: 2150... Loss: 1.3081... Val Loss: 1.3192\n",
      "Epoch: 16/20... Step: 2160... Loss: 1.2799... Val Loss: 1.3290\n",
      "Epoch: 16/20... Step: 2170... Loss: 1.2748... Val Loss: 1.3233\n",
      "Epoch: 16/20... Step: 2180... Loss: 1.2692... Val Loss: 1.3221\n",
      "Epoch: 16/20... Step: 2190... Loss: 1.2888... Val Loss: 1.3240\n",
      "Epoch: 16/20... Step: 2200... Loss: 1.2702... Val Loss: 1.3209\n",
      "Epoch: 16/20... Step: 2210... Loss: 1.2329... Val Loss: 1.3216\n",
      "Epoch: 16/20... Step: 2220... Loss: 1.2867... Val Loss: 1.3182\n",
      "Epoch: 17/20... Step: 2230... Loss: 1.2515... Val Loss: 1.3192\n",
      "Epoch: 17/20... Step: 2240... Loss: 1.2654... Val Loss: 1.3137\n",
      "Epoch: 17/20... Step: 2250... Loss: 1.2505... Val Loss: 1.3173\n",
      "Epoch: 17/20... Step: 2260... Loss: 1.2571... Val Loss: 1.3162\n",
      "Epoch: 17/20... Step: 2270... Loss: 1.2743... Val Loss: 1.3191\n",
      "Epoch: 17/20... Step: 2280... Loss: 1.2748... Val Loss: 1.3146\n",
      "Epoch: 17/20... Step: 2290... Loss: 1.2762... Val Loss: 1.3117\n",
      "Epoch: 17/20... Step: 2300... Loss: 1.2344... Val Loss: 1.3190\n",
      "Epoch: 17/20... Step: 2310... Loss: 1.2586... Val Loss: 1.3129\n",
      "Epoch: 17/20... Step: 2320... Loss: 1.2556... Val Loss: 1.3140\n",
      "Epoch: 17/20... Step: 2330... Loss: 1.2606... Val Loss: 1.3162\n",
      "Epoch: 17/20... Step: 2340... Loss: 1.2742... Val Loss: 1.3131\n",
      "Epoch: 17/20... Step: 2350... Loss: 1.2815... Val Loss: 1.3128\n",
      "Epoch: 17/20... Step: 2360... Loss: 1.2712... Val Loss: 1.3140\n",
      "Epoch: 18/20... Step: 2370... Loss: 1.2485... Val Loss: 1.3059\n",
      "Epoch: 18/20... Step: 2380... Loss: 1.2595... Val Loss: 1.3083\n",
      "Epoch: 18/20... Step: 2390... Loss: 1.2548... Val Loss: 1.3140\n",
      "Epoch: 18/20... Step: 2400... Loss: 1.2735... Val Loss: 1.3082\n",
      "Epoch: 18/20... Step: 2410... Loss: 1.2738... Val Loss: 1.3094\n",
      "Epoch: 18/20... Step: 2420... Loss: 1.2437... Val Loss: 1.3034\n",
      "Epoch: 18/20... Step: 2430... Loss: 1.2596... Val Loss: 1.3054\n",
      "Epoch: 18/20... Step: 2440... Loss: 1.2535... Val Loss: 1.3107\n",
      "Epoch: 18/20... Step: 2450... Loss: 1.2364... Val Loss: 1.3049\n",
      "Epoch: 18/20... Step: 2460... Loss: 1.2673... Val Loss: 1.3054\n",
      "Epoch: 18/20... Step: 2470... Loss: 1.2515... Val Loss: 1.3065\n",
      "Epoch: 18/20... Step: 2480... Loss: 1.2468... Val Loss: 1.3063\n",
      "Epoch: 18/20... Step: 2490... Loss: 1.2342... Val Loss: 1.3014\n",
      "Epoch: 18/20... Step: 2500... Loss: 1.2358... Val Loss: 1.3002\n",
      "Epoch: 19/20... Step: 2510... Loss: 1.2494... Val Loss: 1.3024\n",
      "Epoch: 19/20... Step: 2520... Loss: 1.2598... Val Loss: 1.3048\n",
      "Epoch: 19/20... Step: 2530... Loss: 1.2670... Val Loss: 1.3006\n",
      "Epoch: 19/20... Step: 2540... Loss: 1.2733... Val Loss: 1.2972\n",
      "Epoch: 19/20... Step: 2550... Loss: 1.2332... Val Loss: 1.3039\n",
      "Epoch: 19/20... Step: 2560... Loss: 1.2511... Val Loss: 1.2980\n",
      "Epoch: 19/20... Step: 2570... Loss: 1.2315... Val Loss: 1.3002\n",
      "Epoch: 19/20... Step: 2580... Loss: 1.2636... Val Loss: 1.3013\n",
      "Epoch: 19/20... Step: 2590... Loss: 1.2224... Val Loss: 1.2955\n",
      "Epoch: 19/20... Step: 2600... Loss: 1.2238... Val Loss: 1.3000\n",
      "Epoch: 19/20... Step: 2610... Loss: 1.2371... Val Loss: 1.2988\n",
      "Epoch: 19/20... Step: 2620... Loss: 1.2290... Val Loss: 1.2970\n",
      "Epoch: 19/20... Step: 2630... Loss: 1.2228... Val Loss: 1.3017\n",
      "Epoch: 19/20... Step: 2640... Loss: 1.2475... Val Loss: 1.2976\n",
      "Epoch: 20/20... Step: 2650... Loss: 1.2445... Val Loss: 1.2977\n",
      "Epoch: 20/20... Step: 2660... Loss: 1.2393... Val Loss: 1.2968\n",
      "Epoch: 20/20... Step: 2670... Loss: 1.2549... Val Loss: 1.2996\n",
      "Epoch: 20/20... Step: 2680... Loss: 1.2379... Val Loss: 1.2947\n",
      "Epoch: 20/20... Step: 2690... Loss: 1.2372... Val Loss: 1.2967\n",
      "Epoch: 20/20... Step: 2700... Loss: 1.2483... Val Loss: 1.2902\n",
      "Epoch: 20/20... Step: 2710... Loss: 1.2154... Val Loss: 1.2934\n",
      "Epoch: 20/20... Step: 2720... Loss: 1.2183... Val Loss: 1.2950\n",
      "Epoch: 20/20... Step: 2730... Loss: 1.2092... Val Loss: 1.2926\n",
      "Epoch: 20/20... Step: 2740... Loss: 1.2070... Val Loss: 1.2947\n",
      "Epoch: 20/20... Step: 2750... Loss: 1.2206... Val Loss: 1.2923\n",
      "Epoch: 20/20... Step: 2760... Loss: 1.2102... Val Loss: 1.2914\n",
      "Epoch: 20/20... Step: 2770... Loss: 1.2393... Val Loss: 1.2902\n",
      "Epoch: 20/20... Step: 2780... Loss: 1.2635... Val Loss: 1.2895\n"
     ]
    }
   ],
   "source": [
    "batch_size = 128\n",
    "seq_length = 100\n",
    "n_epochs = 20 # start small if you are just testing initial behavior\n",
    "\n",
    "# train the model\n",
    "train(net, encoded, epochs=n_epochs, batch_size=batch_size, seq_length=seq_length, lr=0.001, print_every=10)"
   ]
  },
  {
   "cell_type": "markdown",
   "metadata": {},
   "source": [
    "## Getting the best model\n",
    "\n",
    "To set your hyperparameters to get the best performance, you'll want to watch the training and validation losses. If your training loss is much lower than the validation loss, you're overfitting. Increase regularization (more dropout) or use a smaller network. If the training and validation losses are close, you're underfitting so you can increase the size of the network."
   ]
  },
  {
   "cell_type": "markdown",
   "metadata": {},
   "source": [
    "## Hyperparameters\n",
    "\n",
    "Here are the hyperparameters for the network.\n",
    "\n",
    "In defining the model:\n",
    "* `n_hidden` - The number of units in the hidden layers.\n",
    "* `n_layers` - Number of hidden LSTM layers to use.\n",
    "\n",
    "We assume that dropout probability and learning rate will be kept at the default, in this example.\n",
    "\n",
    "And in training:\n",
    "* `batch_size` - Number of sequences running through the network in one pass.\n",
    "* `seq_length` - Number of characters in the sequence the network is trained on. Larger is better typically, the network will learn more long range dependencies. But it takes longer to train. 100 is typically a good number here.\n",
    "* `lr` - Learning rate for training\n",
    "\n",
    "Here's some good advice from Andrej Karpathy on training the network. I'm going to copy it in here for your benefit, but also link to [where it originally came from](https://github.com/karpathy/char-rnn#tips-and-tricks).\n",
    "\n",
    "> ## Tips and Tricks\n",
    "\n",
    ">### Monitoring Validation Loss vs. Training Loss\n",
    ">If you're somewhat new to Machine Learning or Neural Networks it can take a bit of expertise to get good models. The most important quantity to keep track of is the difference between your training loss (printed during training) and the validation loss (printed once in a while when the RNN is run on the validation data (by default every 1000 iterations)). In particular:\n",
    "\n",
    "> - If your training loss is much lower than validation loss then this means the network might be **overfitting**. Solutions to this are to decrease your network size, or to increase dropout. For example you could try dropout of 0.5 and so on.\n",
    "> - If your training/validation loss are about equal then your model is **underfitting**. Increase the size of your model (either number of layers or the raw number of neurons per layer)\n",
    "\n",
    "> ### Approximate number of parameters\n",
    "\n",
    "> The two most important parameters that control the model are `n_hidden` and `n_layers`. I would advise that you always use `n_layers` of either 2/3. The `n_hidden` can be adjusted based on how much data you have. The two important quantities to keep track of here are:\n",
    "\n",
    "> - The number of parameters in your model. This is printed when you start training.\n",
    "> - The size of your dataset. 1MB file is approximately 1 million characters.\n",
    "\n",
    ">These two should be about the same order of magnitude. It's a little tricky to tell. Here are some examples:\n",
    "\n",
    "> - I have a 100MB dataset and I'm using the default parameter settings (which currently print 150K parameters). My data size is significantly larger (100 mil >> 0.15 mil), so I expect to heavily underfit. I am thinking I can comfortably afford to make `n_hidden` larger.\n",
    "> - I have a 10MB dataset and running a 10 million parameter model. I'm slightly nervous and I'm carefully monitoring my validation loss. If it's larger than my training loss then I may want to try to increase dropout a bit and see if that helps the validation loss.\n",
    "\n",
    "> ### Best models strategy\n",
    "\n",
    ">The winning strategy to obtaining very good models (if you have the compute time) is to always err on making the network larger (as large as you're willing to wait for it to compute) and then try different dropout values (between 0,1). Whatever model has the best validation performance (the loss, written in the checkpoint filename, low is good) is the one you should use in the end.\n",
    "\n",
    ">It is very common in deep learning to run many different models with many different hyperparameter settings, and in the end take whatever checkpoint gave the best validation performance.\n",
    "\n",
    ">By the way, the size of your training and validation splits are also parameters. Make sure you have a decent amount of data in your validation set or otherwise the validation performance will be noisy and not very informative."
   ]
  },
  {
   "cell_type": "markdown",
   "metadata": {},
   "source": [
    "## Checkpoint\n",
    "\n",
    "After training, we'll save the model so we can load it again later if we need too. Here I'm saving the parameters needed to create the same architecture, the hidden layer hyperparameters and the text characters."
   ]
  },
  {
   "cell_type": "code",
   "execution_count": 17,
   "metadata": {},
   "outputs": [],
   "source": [
    "# change the name, for saving multiple files\n",
    "model_name = 'rnn_x_epoch.net'\n",
    "\n",
    "checkpoint = {'n_hidden': net.n_hidden,\n",
    "              'n_layers': net.n_layers,\n",
    "              'state_dict': net.state_dict(),\n",
    "              'tokens': net.chars}\n",
    "\n",
    "with open(model_name, 'wb') as f:\n",
    "    torch.save(checkpoint, f)"
   ]
  },
  {
   "cell_type": "markdown",
   "metadata": {},
   "source": [
    "---\n",
    "## Making Predictions\n",
    "\n",
    "Now that the model is trained, we'll want to sample from it and make predictions about next characters! To sample, we pass in a character and have the network predict the next character. Then we take that character, pass it back in, and get another predicted character. Just keep doing this and you'll generate a bunch of text!\n",
    "\n",
    "### A note on the `predict`  function\n",
    "\n",
    "The output of our RNN is from a fully-connected layer and it outputs a **distribution of next-character scores**.\n",
    "\n",
    "> To actually get the next character, we apply a softmax function, which gives us a *probability* distribution that we can then sample to predict the next character.\n",
    "\n",
    "### Top K sampling\n",
    "\n",
    "Our predictions come from a categorical probability distribution over all the possible characters. We can make the sample text and make it more reasonable to handle (with less variables) by only considering some $K$ most probable characters. This will prevent the network from giving us completely absurd characters while allowing it to introduce some noise and randomness into the sampled text. Read more about [topk, here](https://pytorch.org/docs/stable/torch.html#torch.topk).\n"
   ]
  },
  {
   "cell_type": "code",
   "execution_count": 18,
   "metadata": {},
   "outputs": [],
   "source": [
    "def predict(net, char, h=None, top_k=None):\n",
    "        ''' Given a character, predict the next character.\n",
    "            Returns the predicted character and the hidden state.\n",
    "        '''\n",
    "        \n",
    "        # tensor inputs\n",
    "        x = np.array([[net.char2int[char]]])\n",
    "        x = one_hot_encode(x, len(net.chars))\n",
    "        inputs = torch.from_numpy(x)\n",
    "        \n",
    "        if(train_on_gpu):\n",
    "            inputs = inputs.cuda()\n",
    "        \n",
    "        # detach hidden state from history\n",
    "        h = tuple([each.data for each in h])\n",
    "        # get the output of the model\n",
    "        out, h = net(inputs, h)\n",
    "\n",
    "        # get the character probabilities\n",
    "        p = F.softmax(out, dim=1).data\n",
    "        if(train_on_gpu):\n",
    "            p = p.cpu() # move to cpu\n",
    "        \n",
    "        # get top characters\n",
    "        if top_k is None:\n",
    "            top_ch = np.arange(len(net.chars))\n",
    "        else:\n",
    "            p, top_ch = p.topk(top_k)\n",
    "            top_ch = top_ch.numpy().squeeze()\n",
    "        \n",
    "        # select the likely next character with some element of randomness\n",
    "        p = p.numpy().squeeze()\n",
    "        char = np.random.choice(top_ch, p=p/p.sum())\n",
    "        \n",
    "        # return the encoded value of the predicted char and the hidden state\n",
    "        return net.int2char[char], h"
   ]
  },
  {
   "cell_type": "markdown",
   "metadata": {},
   "source": [
    "### Priming and generating text \n",
    "\n",
    "Typically you'll want to prime the network so you can build up a hidden state. Otherwise the network will start out generating characters at random. In general the first bunch of characters will be a little rough since it hasn't built up a long history of characters to predict from."
   ]
  },
  {
   "cell_type": "code",
   "execution_count": 19,
   "metadata": {},
   "outputs": [],
   "source": [
    "def sample(net, size, prime='The', top_k=None):\n",
    "        \n",
    "    if(train_on_gpu):\n",
    "        net.cuda()\n",
    "    else:\n",
    "        net.cpu()\n",
    "    \n",
    "    net.eval() # eval mode\n",
    "    \n",
    "    # First off, run through the prime characters\n",
    "    chars = [ch for ch in prime]\n",
    "    h = net.init_hidden(1)\n",
    "    for ch in prime:\n",
    "        char, h = predict(net, ch, h, top_k=top_k)\n",
    "\n",
    "    chars.append(char)\n",
    "    \n",
    "    # Now pass in the previous character and get a new one\n",
    "    for ii in range(size):\n",
    "        char, h = predict(net, chars[-1], h, top_k=top_k)\n",
    "        chars.append(char)\n",
    "\n",
    "    return ''.join(chars)"
   ]
  },
  {
   "cell_type": "code",
   "execution_count": 20,
   "metadata": {},
   "outputs": [
    {
     "name": "stdout",
     "output_type": "stream",
     "text": [
      "Anna's table.\n",
      "\n",
      "\"Ah, there's a carriage, and selence in a short, arrival attaching off our could be as she does start, but that I've always then about him, and she could not have been to go to this waters.\n",
      "\n",
      "This sisters's taken to the first sort of significance at that stand of this characterings and suchess,\" said Agafea Mihalovna's. \"I devoted you,\" said Anna.\n",
      "\n",
      "\"Well, have you struggled, I was as so it as though it, what is a little son and to blead,\n",
      "they're always been a face, and I have nothing to be dinner with the peculiar persund train and continual time to me. What have you certainly\n",
      "come of your hands of her soun. I did not say\n",
      "and to say, that they are some tortual of all, the creak,\" she repeated from a smile, she came to have a chair, she cried in the card, was at the book and with the marshal of\n",
      "why he was compressing her time to have simply because she corled on all the sound that she was discondities in\n",
      "the sound,\n",
      "that in the strange\n",
      "shoulders, as though she could not\n",
      "be to hi\n"
     ]
    }
   ],
   "source": [
    "print(sample(net, 1000, prime='Anna', top_k=5))"
   ]
  },
  {
   "cell_type": "markdown",
   "metadata": {},
   "source": [
    "## Loading a checkpoint"
   ]
  },
  {
   "cell_type": "code",
   "execution_count": 21,
   "metadata": {},
   "outputs": [],
   "source": [
    "# Here we have loaded in a model that trained over 20 epochs `rnn_20_epoch.net`\n",
    "with open('rnn_x_epoch.net', 'rb') as f:\n",
    "    checkpoint = torch.load(f)\n",
    "    \n",
    "loaded = CharRNN(checkpoint['tokens'], n_hidden=checkpoint['n_hidden'], n_layers=checkpoint['n_layers'])\n",
    "loaded.load_state_dict(checkpoint['state_dict'])"
   ]
  },
  {
   "cell_type": "code",
   "execution_count": 22,
   "metadata": {},
   "outputs": [
    {
     "name": "stdout",
     "output_type": "stream",
     "text": [
      "And Levin said to the conversation,\n",
      "and all these way, there was so much\n",
      "face of a peasants, herself, was in life of the filled out of which the strail of her father showed to tee all\n",
      "the sides, to be all deconting in his sheet\n",
      "to\n",
      "his hands, and still satisfaction.\n",
      "\n",
      "\"I don't look out it. Would you come.\"\n",
      "\n",
      "\"You're not to be, it'll set once to her. What wish you're that my country!\" said Levin, \"I'm not given them all over of the first table, where he could not be at the strange most sounds. I don't say to\n",
      "me, but in talking in itself,\" he\n",
      "said, smiling, and was suffering and serenely, and sat a condition the stuck\n",
      "of his fingers with a sick meadow. \"I have broken\n",
      "more\n",
      "face. I shall be feeling in the past of a son to take her freedom,\" he shouted, \"and so much official forms things!.... What did you cannot be at the seemants,\" he said,\n",
      "\"I dan't begin to talk at any one that he don't believe it, I'm angry, in the mudical of the country. To her morth of her son. I shall come out of the sight of the crewaun over her\n",
      "and a sold strange and some\n",
      "shooting of the master, that shall she can be selected for a man and\n",
      "mearow. I have no singer than there should nothing of them. They were the same trones of altagetter.\n",
      "There's no happy on the point of his sick pangs to the\n",
      "party in his stat he went up...\"\n",
      "\n",
      "\"Oh, no!\"\n",
      "\n",
      "\"Yes, but the sense of a mushroom that's how it myself all as I was to see that they\n",
      "had been so than the coming tried to say that the choes of happiness. I'm not answering, and as though she's all this words on the carplation.\n",
      "I don't say to the figure of the form into the son. I have some forese to say\n",
      "in that party. What artures it's to bring a confiment of the point of the picture, where and these carriages there. They're too\n",
      "much to\n",
      "bring him and to gave his fancies and the measures in\n",
      "her showing in this senternies,\" she said to his\n",
      "short, and still, and alond. She had a gentrement\n",
      "of his son,\" he said with her friends. She was to the\n",
      "meaning of his soul. \"I went out to the c\n"
     ]
    }
   ],
   "source": [
    "# Sample using a loaded model\n",
    "print(sample(loaded, 2000, top_k=5, prime=\"And Levin said\"))"
   ]
  },
  {
   "cell_type": "code",
   "execution_count": null,
   "metadata": {
    "collapsed": true
   },
   "outputs": [],
   "source": []
  }
 ],
 "metadata": {
  "kernelspec": {
   "display_name": "Python 3",
   "language": "python",
   "name": "python3"
  },
  "language_info": {
   "codemirror_mode": {
    "name": "ipython",
    "version": 3
   },
   "file_extension": ".py",
   "mimetype": "text/x-python",
   "name": "python",
   "nbconvert_exporter": "python",
   "pygments_lexer": "ipython3",
   "version": "3.6.3"
  }
 },
 "nbformat": 4,
 "nbformat_minor": 2
}
